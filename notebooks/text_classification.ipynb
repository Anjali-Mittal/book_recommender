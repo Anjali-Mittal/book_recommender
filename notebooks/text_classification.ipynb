{
 "cells": [
  {
   "cell_type": "code",
   "execution_count": 2,
   "id": "2c29020d",
   "metadata": {},
   "outputs": [],
   "source": [
    "import pandas as pd\n",
    "import numpy as np\n",
    "books=pd.read_csv(\"../data/books_cleaned.csv\")"
   ]
  },
  {
   "cell_type": "code",
   "execution_count": 9,
   "id": "a6372ba9",
   "metadata": {},
   "outputs": [
    {
     "data": {
      "text/html": [
       "<div>\n",
       "<style scoped>\n",
       "    .dataframe tbody tr th:only-of-type {\n",
       "        vertical-align: middle;\n",
       "    }\n",
       "\n",
       "    .dataframe tbody tr th {\n",
       "        vertical-align: top;\n",
       "    }\n",
       "\n",
       "    .dataframe thead th {\n",
       "        text-align: right;\n",
       "    }\n",
       "</style>\n",
       "<table border=\"1\" class=\"dataframe\">\n",
       "  <thead>\n",
       "    <tr style=\"text-align: right;\">\n",
       "      <th></th>\n",
       "      <th>categories</th>\n",
       "      <th>count</th>\n",
       "    </tr>\n",
       "  </thead>\n",
       "  <tbody>\n",
       "    <tr>\n",
       "      <th>0</th>\n",
       "      <td>Fiction</td>\n",
       "      <td>2111</td>\n",
       "    </tr>\n",
       "    <tr>\n",
       "      <th>1</th>\n",
       "      <td>Juvenile Fiction</td>\n",
       "      <td>390</td>\n",
       "    </tr>\n",
       "    <tr>\n",
       "      <th>2</th>\n",
       "      <td>Biography &amp; Autobiography</td>\n",
       "      <td>311</td>\n",
       "    </tr>\n",
       "    <tr>\n",
       "      <th>3</th>\n",
       "      <td>History</td>\n",
       "      <td>207</td>\n",
       "    </tr>\n",
       "    <tr>\n",
       "      <th>4</th>\n",
       "      <td>Literary Criticism</td>\n",
       "      <td>124</td>\n",
       "    </tr>\n",
       "    <tr>\n",
       "      <th>5</th>\n",
       "      <td>Religion</td>\n",
       "      <td>117</td>\n",
       "    </tr>\n",
       "    <tr>\n",
       "      <th>6</th>\n",
       "      <td>Philosophy</td>\n",
       "      <td>117</td>\n",
       "    </tr>\n",
       "    <tr>\n",
       "      <th>7</th>\n",
       "      <td>Comics &amp; Graphic Novels</td>\n",
       "      <td>116</td>\n",
       "    </tr>\n",
       "    <tr>\n",
       "      <th>8</th>\n",
       "      <td>Drama</td>\n",
       "      <td>86</td>\n",
       "    </tr>\n",
       "    <tr>\n",
       "      <th>9</th>\n",
       "      <td>Juvenile Nonfiction</td>\n",
       "      <td>57</td>\n",
       "    </tr>\n",
       "    <tr>\n",
       "      <th>10</th>\n",
       "      <td>Science</td>\n",
       "      <td>56</td>\n",
       "    </tr>\n",
       "    <tr>\n",
       "      <th>11</th>\n",
       "      <td>Poetry</td>\n",
       "      <td>51</td>\n",
       "    </tr>\n",
       "    <tr>\n",
       "      <th>12</th>\n",
       "      <td>Literary Collections</td>\n",
       "      <td>50</td>\n",
       "    </tr>\n",
       "    <tr>\n",
       "      <th>13</th>\n",
       "      <td>Business &amp; Economics</td>\n",
       "      <td>49</td>\n",
       "    </tr>\n",
       "    <tr>\n",
       "      <th>14</th>\n",
       "      <td>Social Science</td>\n",
       "      <td>48</td>\n",
       "    </tr>\n",
       "    <tr>\n",
       "      <th>15</th>\n",
       "      <td>Performing Arts</td>\n",
       "      <td>40</td>\n",
       "    </tr>\n",
       "    <tr>\n",
       "      <th>16</th>\n",
       "      <td>Cooking</td>\n",
       "      <td>35</td>\n",
       "    </tr>\n",
       "    <tr>\n",
       "      <th>17</th>\n",
       "      <td>Psychology</td>\n",
       "      <td>33</td>\n",
       "    </tr>\n",
       "    <tr>\n",
       "      <th>18</th>\n",
       "      <td>Art</td>\n",
       "      <td>32</td>\n",
       "    </tr>\n",
       "    <tr>\n",
       "      <th>19</th>\n",
       "      <td>Body, Mind &amp; Spirit</td>\n",
       "      <td>32</td>\n",
       "    </tr>\n",
       "  </tbody>\n",
       "</table>\n",
       "</div>"
      ],
      "text/plain": [
       "                   categories  count\n",
       "0                     Fiction   2111\n",
       "1            Juvenile Fiction    390\n",
       "2   Biography & Autobiography    311\n",
       "3                     History    207\n",
       "4          Literary Criticism    124\n",
       "5                    Religion    117\n",
       "6                  Philosophy    117\n",
       "7     Comics & Graphic Novels    116\n",
       "8                       Drama     86\n",
       "9         Juvenile Nonfiction     57\n",
       "10                    Science     56\n",
       "11                     Poetry     51\n",
       "12       Literary Collections     50\n",
       "13       Business & Economics     49\n",
       "14             Social Science     48\n",
       "15            Performing Arts     40\n",
       "16                    Cooking     35\n",
       "17                 Psychology     33\n",
       "18                        Art     32\n",
       "19        Body, Mind & Spirit     32"
      ]
     },
     "execution_count": 9,
     "metadata": {},
     "output_type": "execute_result"
    }
   ],
   "source": [
    "pd.set_option('display.max_rows', 20)\n",
    "books[\"categories\"].value_counts().reset_index().head(20)"
   ]
  },
  {
   "cell_type": "code",
   "execution_count": null,
   "id": "28bbafe8",
   "metadata": {},
   "outputs": [],
   "source": [
    "category_mapping = {\n",
    "    'Fiction': 'Fiction',\n",
    "    'Juvenile Fiction': 'Children\\'s Fiction',\n",
    "    'Children\\'s Fiction': 'Children\\'s Fiction',\n",
    "    'Biography & Autobiography': 'Biography',\n",
    "    'Autobiography': 'Biography',\n",
    "    'History': 'History',\n",
    "    'Literary Criticism': 'Literary Studies',\n",
    "    'Philosophy': 'Philosophy',\n",
    "    'Religion': 'Religion',\n",
    "    'Comics & Graphic Novels': 'Comics/Graphic Novels',\n",
    "    'Comics': 'Comics/Graphic Novels',\n",
    "    'Graphic Novels': 'Comics/Graphic Novels',\n",
    "    'Drama': 'Drama',\n",
    "    'Juvenile Nonfiction': 'Children\\'s Nonfiction',\n",
    "    'Children\\'s Nonfiction': 'Children\\'s Nonfiction',\n",
    "    'Science': 'Science',\n",
    "    'Science & Nature': 'Science',\n",
    "    'Poetry': 'Poetry',\n",
    "    'Health & Fitness': 'Health',\n",
    "    'Self-Help': 'Self-Help',\n",
    "    'Cooking': 'Cooking',\n",
    "    'Education': 'Education',\n",
    "    'Computers': 'Technology',\n",
    "    'Technology': 'Technology',\n",
    "    'Mathematics': 'Mathematics',\n",
    "    'Business & Economics': 'Business',\n",
    "    'Art': 'Art',\n",
    "    'Music': 'Music',\n",
    "    'Travel': 'Travel',\n",
    "    'Social Science': 'Social Science',\n",
    "    'True Crime': 'Crime',\n",
    "    'Crime': 'Crime',\n",
    "    'Mystery': 'Mystery',\n",
    "    'Fantasy': 'Fantasy',\n",
    "    'Adventure': 'Adventure',\n",
    "    'Horror': 'Horror',\n",
    "    'Romance': 'Romance',\n",
    "}\n",
    "books[\"mapped_category\"] = books[\"categories\"].map(category_mapping)\n",
    "books[~(books[\"mapped_category\"]).isna()]"
   ]
  },
  {
   "cell_type": "code",
   "execution_count": 15,
   "id": "5adce7f3",
   "metadata": {},
   "outputs": [
    {
     "name": "stderr",
     "output_type": "stream",
     "text": [
      "Device set to use cpu\n"
     ]
    }
   ],
   "source": [
    "from transformers import pipeline\n",
    "\n",
    "# Step 1: Define your categories\n",
    "candidate_labels = [\n",
    "    \"Fiction\", \"Nonfiction\", \"Children's Fiction\", \"Biography\", \"Science\", \"Philosophy\",\n",
    "    \"Poetry\", \"History\", \"Technology\", \"Health\", \"Business\", \"Crime\", \"Mystery\", \"Fantasy\",\n",
    "    \"Adventure\", \"Horror\", \"Romance\", \"Education\", \"Self-Help\", \"Comics/Graphic Novels\",\n",
    "    \"Social Science\", \"Art\", \"Music\", \"Travel\"\n",
    "]\n",
    "\n",
    "# Step 2: Load zero-shot classifier pipeline\n",
    "pipe = pipeline(\n",
    "    \"zero-shot-classification\",\n",
    "    model=\"facebook/bart-large-mnli\",\n",
    ")"
   ]
  },
  {
   "cell_type": "code",
   "execution_count": null,
   "id": "f917ba36",
   "metadata": {},
   "outputs": [],
   "source": [
    "max_index=np"
   ]
  },
  {
   "cell_type": "code",
   "execution_count": 16,
   "id": "1f020d30",
   "metadata": {},
   "outputs": [],
   "source": [
    "def classify_book_category(sequence,categories):\n",
    "    predictions=pipe(sequence,categories)\n",
    "    max_index=np.argmax(predictions[\"scores\"])\n",
    "    max_label=predictions[\"labels\"][max_index]\n",
    "    return max_label"
   ]
  },
  {
   "cell_type": "code",
   "execution_count": 17,
   "id": "0d2ac65b",
   "metadata": {},
   "outputs": [
    {
     "data": {
      "text/plain": [
       "'Mystery'"
      ]
     },
     "execution_count": 17,
     "metadata": {},
     "output_type": "execute_result"
    }
   ],
   "source": [
    "classify_book_category(\"A thrilling mystery novel set in a small town.\", candidate_labels)"
   ]
  },
  {
   "cell_type": "code",
   "execution_count": 26,
   "id": "43bbf473",
   "metadata": {},
   "outputs": [
    {
     "name": "stderr",
     "output_type": "stream",
     "text": [
      "Classifying Fiction: 100%|██████████| 300/300 [08:13<00:00,  1.64s/it]\n",
      "Classifying Nonfiction: 0it [00:00, ?it/s]"
     ]
    },
    {
     "name": "stdout",
     "output_type": "stream",
     "text": [
      "\n",
      "Accuracy: 70.33%\n"
     ]
    },
    {
     "name": "stderr",
     "output_type": "stream",
     "text": [
      "\n"
     ]
    }
   ],
   "source": [
    "from tqdm import tqdm\n",
    "actual_cats = []\n",
    "predicted_cats = []\n",
    "\n",
    "\n",
    "# Optional: limit categories you want to test\n",
    "categories_to_test = ['Fiction', 'Nonfiction']\n",
    "\n",
    "# Step 5: Evaluation loop with tqdm\n",
    "for category in categories_to_test:\n",
    "    samples = books.loc[books[\"mapped_category\"] == category, \"description\"].dropna().reset_index(drop=True)\n",
    "    for i in tqdm(range(min(300, len(samples))), desc=f\"Classifying {category}\"):\n",
    "        desc = samples[i]\n",
    "        predicted = classify_book_category(desc, categories_to_test)  # Only classify into Fiction vs Nonfiction here\n",
    "        predicted_cats.append(predicted)\n",
    "        actual_cats.append(category)\n",
    "\n",
    "# Step 6: Create results DataFrame and show accuracy\n",
    "results_df = pd.DataFrame({\n",
    "    'actual': actual_cats,\n",
    "    'predicted': predicted_cats\n",
    "})\n",
    "\n",
    "accuracy = (results_df[\"actual\"] == results_df[\"predicted\"]).mean()\n",
    "print(f\"\\nAccuracy: {accuracy:.2%}\")"
   ]
  },
  {
   "cell_type": "code",
   "execution_count": null,
   "id": "a06f179b",
   "metadata": {},
   "outputs": [],
   "source": [
    "pd.set_option('display.max_rows', 20)\n",
    "results_df.head(20)\n"
   ]
  },
  {
   "cell_type": "code",
   "execution_count": 28,
   "id": "cd27575b",
   "metadata": {},
   "outputs": [
    {
     "name": "stderr",
     "output_type": "stream",
     "text": [
      "100%|██████████| 500/500 [8:42:28<00:00, 62.70s/it]      \n"
     ]
    }
   ],
   "source": [
    "isbns = []\n",
    "predicted_cats = []\n",
    "\n",
    "missing_cats = books.loc[books[\"mapped_category\"].isna(), [\"isbn13\", \"description\"]].reset_index(drop=True)[:500]\n",
    "for i in tqdm(range(0, len(missing_cats))):\n",
    "    sequence = missing_cats[\"description\"][i]\n",
    "    predicted_cats += [classify_book_category(sequence,candidate_labels[:15])]\n",
    "    isbns += [missing_cats[\"isbn13\"][i]]\n",
    "\n"
   ]
  },
  {
   "cell_type": "code",
   "execution_count": 29,
   "id": "362c1564",
   "metadata": {},
   "outputs": [],
   "source": [
    "missing_predicted_df = pd.DataFrame({\n",
    "    \"isbn13\": isbns,\n",
    "    \"predicted_category\": predicted_cats\n",
    "})"
   ]
  },
  {
   "cell_type": "code",
   "execution_count": 32,
   "id": "9a722436",
   "metadata": {},
   "outputs": [
    {
     "data": {
      "text/html": [
       "<div>\n",
       "<style scoped>\n",
       "    .dataframe tbody tr th:only-of-type {\n",
       "        vertical-align: middle;\n",
       "    }\n",
       "\n",
       "    .dataframe tbody tr th {\n",
       "        vertical-align: top;\n",
       "    }\n",
       "\n",
       "    .dataframe thead th {\n",
       "        text-align: right;\n",
       "    }\n",
       "</style>\n",
       "<table border=\"1\" class=\"dataframe\">\n",
       "  <thead>\n",
       "    <tr style=\"text-align: right;\">\n",
       "      <th></th>\n",
       "      <th>predicted_category</th>\n",
       "      <th>count</th>\n",
       "    </tr>\n",
       "  </thead>\n",
       "  <tbody>\n",
       "    <tr>\n",
       "      <th>0</th>\n",
       "      <td>Mystery</td>\n",
       "      <td>87</td>\n",
       "    </tr>\n",
       "    <tr>\n",
       "      <th>1</th>\n",
       "      <td>History</td>\n",
       "      <td>83</td>\n",
       "    </tr>\n",
       "    <tr>\n",
       "      <th>2</th>\n",
       "      <td>Adventure</td>\n",
       "      <td>81</td>\n",
       "    </tr>\n",
       "    <tr>\n",
       "      <th>3</th>\n",
       "      <td>Fiction</td>\n",
       "      <td>70</td>\n",
       "    </tr>\n",
       "    <tr>\n",
       "      <th>4</th>\n",
       "      <td>Nonfiction</td>\n",
       "      <td>44</td>\n",
       "    </tr>\n",
       "    <tr>\n",
       "      <th>5</th>\n",
       "      <td>Biography</td>\n",
       "      <td>27</td>\n",
       "    </tr>\n",
       "    <tr>\n",
       "      <th>6</th>\n",
       "      <td>Crime</td>\n",
       "      <td>21</td>\n",
       "    </tr>\n",
       "    <tr>\n",
       "      <th>7</th>\n",
       "      <td>Health</td>\n",
       "      <td>20</td>\n",
       "    </tr>\n",
       "    <tr>\n",
       "      <th>8</th>\n",
       "      <td>Science</td>\n",
       "      <td>16</td>\n",
       "    </tr>\n",
       "    <tr>\n",
       "      <th>9</th>\n",
       "      <td>Fantasy</td>\n",
       "      <td>14</td>\n",
       "    </tr>\n",
       "    <tr>\n",
       "      <th>10</th>\n",
       "      <td>Technology</td>\n",
       "      <td>12</td>\n",
       "    </tr>\n",
       "    <tr>\n",
       "      <th>11</th>\n",
       "      <td>Poetry</td>\n",
       "      <td>8</td>\n",
       "    </tr>\n",
       "    <tr>\n",
       "      <th>12</th>\n",
       "      <td>Children's Fiction</td>\n",
       "      <td>8</td>\n",
       "    </tr>\n",
       "    <tr>\n",
       "      <th>13</th>\n",
       "      <td>Business</td>\n",
       "      <td>7</td>\n",
       "    </tr>\n",
       "    <tr>\n",
       "      <th>14</th>\n",
       "      <td>Philosophy</td>\n",
       "      <td>2</td>\n",
       "    </tr>\n",
       "  </tbody>\n",
       "</table>\n",
       "</div>"
      ],
      "text/plain": [
       "    predicted_category  count\n",
       "0              Mystery     87\n",
       "1              History     83\n",
       "2            Adventure     81\n",
       "3              Fiction     70\n",
       "4           Nonfiction     44\n",
       "5            Biography     27\n",
       "6                Crime     21\n",
       "7               Health     20\n",
       "8              Science     16\n",
       "9              Fantasy     14\n",
       "10          Technology     12\n",
       "11              Poetry      8\n",
       "12  Children's Fiction      8\n",
       "13            Business      7\n",
       "14          Philosophy      2"
      ]
     },
     "execution_count": 32,
     "metadata": {},
     "output_type": "execute_result"
    }
   ],
   "source": [
    "missing_predicted_df[\"predicted_category\"].value_counts().reset_index().head(20)"
   ]
  },
  {
   "cell_type": "code",
   "execution_count": 30,
   "id": "490149ab",
   "metadata": {},
   "outputs": [],
   "source": [
    "books=pd.merge(books,missing_predicted_df, on=\"isbn13\", how=\"left\")\n",
    "books[\"mapped_category\"] = np.where(books[\"mapped_category\"].isna(),books[\"predicted_category\"],books[\"mapped_category\"])"
   ]
  },
  {
   "cell_type": "code",
   "execution_count": 33,
   "id": "ecd45677",
   "metadata": {},
   "outputs": [],
   "source": [
    "books=books.drop(columns=[\"predicted_category\"])"
   ]
  },
  {
   "cell_type": "code",
   "execution_count": null,
   "id": "707627c4",
   "metadata": {},
   "outputs": [],
   "source": [
    "books[books[\"title\"].str.contains(\"Harry Potter\", case=False, na=False)]\n"
   ]
  },
  {
   "cell_type": "code",
   "execution_count": 41,
   "id": "1d73b20a",
   "metadata": {},
   "outputs": [],
   "source": [
    "books.to_csv(\"books_classified.csv\", index=False)"
   ]
  }
 ],
 "metadata": {
  "kernelspec": {
   "display_name": "Python 3",
   "language": "python",
   "name": "python3"
  },
  "language_info": {
   "codemirror_mode": {
    "name": "ipython",
    "version": 3
   },
   "file_extension": ".py",
   "mimetype": "text/x-python",
   "name": "python",
   "nbconvert_exporter": "python",
   "pygments_lexer": "ipython3",
   "version": "3.12.1"
  }
 },
 "nbformat": 4,
 "nbformat_minor": 5
}
