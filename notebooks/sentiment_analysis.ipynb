{
 "cells": [
  {
   "cell_type": "code",
   "execution_count": null,
   "id": "11add64c",
   "metadata": {},
   "outputs": [],
   "source": [
    "import pandas as pd\n",
    "import numpy as np\n",
    "books = pd.read_csv(\"../data/books_classified.csv\")"
   ]
  },
  {
   "cell_type": "code",
   "execution_count": null,
   "id": "390fafd4",
   "metadata": {},
   "outputs": [],
   "source": [
    "from transformers import pipeline\n",
    "\n",
    "# Load model and tokenizer\n",
    "model_name = \"j-hartmann/emotion-english-distilroberta-base\"\n",
    "classifier=pipeline(\"text-classification\", model=model_name,\n",
    "                    top_k=None)"
   ]
  },
  {
   "cell_type": "code",
   "execution_count": null,
   "id": "662523e7",
   "metadata": {},
   "outputs": [],
   "source": [
    "classifier(\"i work for very low pay\")"
   ]
  },
  {
   "cell_type": "code",
   "execution_count": null,
   "id": "7575386f",
   "metadata": {},
   "outputs": [],
   "source": [
    "labels = ['anger', 'disgust', 'fear', 'joy', 'neutral', 'sadness', 'surprise', 'love','hope']\n"
   ]
  },
  {
   "cell_type": "code",
   "execution_count": null,
   "id": "d5943c26",
   "metadata": {},
   "outputs": [],
   "source": [
    "def classify_emotions(description,neutral_max=0.35):\n",
    "    scores = {label: 0.0 for label in labels}\n",
    "    count = 0\n",
    "\n",
    "    for sentence in description.split(\".\"):\n",
    "        sentence = sentence.strip()\n",
    "        if sentence:\n",
    "            preds = classifier(sentence)[0]\n",
    "            for pred in preds:\n",
    "                scores[pred['label']] += pred['score']\n",
    "            count += 1\n",
    "\n",
    "    result = {}\n",
    "    for label in scores:\n",
    "        avg_score = scores[label] / count if count > 0 else 0.0\n",
    "        if label == \"neutral\":\n",
    "            avg_score = min(avg_score, neutral_max)  # cap neutral\n",
    "        result[label] = round(avg_score, 3) #if avg_score > threshold else 0.0\n",
    "\n",
    "    return result"
   ]
  },
  {
   "cell_type": "code",
   "execution_count": null,
   "id": "2ee24f22",
   "metadata": {},
   "outputs": [],
   "source": [
    "emotion_df = books[\"description\"].apply(classify_emotions).apply(pd.Series)\n",
    "books = pd.concat([books, emotion_df], axis=1)\n"
   ]
  },
  {
   "cell_type": "code",
   "execution_count": null,
   "id": "c1aab889",
   "metadata": {},
   "outputs": [],
   "source": [
    "books.to_csv(\"books_with_emotions.csv\", index=False)"
   ]
  }
 ],
 "metadata": {
  "kernelspec": {
   "display_name": "Python 3",
   "language": "python",
   "name": "python3"
  },
  "language_info": {
   "codemirror_mode": {
    "name": "ipython",
    "version": 3
   },
   "file_extension": ".py",
   "mimetype": "text/x-python",
   "name": "python",
   "nbconvert_exporter": "python",
   "pygments_lexer": "ipython3",
   "version": "3.12.1"
  }
 },
 "nbformat": 4,
 "nbformat_minor": 5
}
