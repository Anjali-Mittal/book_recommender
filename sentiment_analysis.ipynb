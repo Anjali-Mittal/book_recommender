{
 "cells": [
  {
   "cell_type": "code",
   "execution_count": 63,
   "id": "11add64c",
   "metadata": {},
   "outputs": [],
   "source": [
    "import pandas as pd\n",
    "import numpy as np\n",
    "books=pd.read_csv(\"books_classified.csv\")"
   ]
  },
  {
   "cell_type": "code",
   "execution_count": 2,
   "id": "390fafd4",
   "metadata": {},
   "outputs": [
    {
     "data": {
      "application/vnd.jupyter.widget-view+json": {
       "model_id": "955943fcde6544b992d426d9fe2f57fd",
       "version_major": 2,
       "version_minor": 0
      },
      "text/plain": [
       "config.json:   0%|          | 0.00/1.00k [00:00<?, ?B/s]"
      ]
     },
     "metadata": {},
     "output_type": "display_data"
    },
    {
     "name": "stderr",
     "output_type": "stream",
     "text": [
      "c:\\New folder\\Lib\\site-packages\\huggingface_hub\\file_download.py:143: UserWarning: `huggingface_hub` cache-system uses symlinks by default to efficiently store duplicated files but your machine does not support them in C:\\Users\\DELL\\.cache\\huggingface\\hub\\models--j-hartmann--emotion-english-distilroberta-base. Caching files will still work but in a degraded version that might require more space on your disk. This warning can be disabled by setting the `HF_HUB_DISABLE_SYMLINKS_WARNING` environment variable. For more details, see https://huggingface.co/docs/huggingface_hub/how-to-cache#limitations.\n",
      "To support symlinks on Windows, you either need to activate Developer Mode or to run Python as an administrator. In order to activate developer mode, see this article: https://docs.microsoft.com/en-us/windows/apps/get-started/enable-your-device-for-development\n",
      "  warnings.warn(message)\n"
     ]
    },
    {
     "name": "stdout",
     "output_type": "stream",
     "text": [
      "WARNING:tensorflow:From c:\\New folder\\Lib\\site-packages\\tf_keras\\src\\losses.py:2976: The name tf.losses.sparse_softmax_cross_entropy is deprecated. Please use tf.compat.v1.losses.sparse_softmax_cross_entropy instead.\n",
      "\n"
     ]
    },
    {
     "name": "stderr",
     "output_type": "stream",
     "text": [
      "Xet Storage is enabled for this repo, but the 'hf_xet' package is not installed. Falling back to regular HTTP download. For better performance, install the package with: `pip install huggingface_hub[hf_xet]` or `pip install hf_xet`\n"
     ]
    },
    {
     "data": {
      "application/vnd.jupyter.widget-view+json": {
       "model_id": "478c0c2a1a6744058bdb6f3d1fb6e1aa",
       "version_major": 2,
       "version_minor": 0
      },
      "text/plain": [
       "pytorch_model.bin:   0%|          | 0.00/329M [00:00<?, ?B/s]"
      ]
     },
     "metadata": {},
     "output_type": "display_data"
    },
    {
     "data": {
      "application/vnd.jupyter.widget-view+json": {
       "model_id": "4f345fcf3c8f48dd87253f11cb861e19",
       "version_major": 2,
       "version_minor": 0
      },
      "text/plain": [
       "tokenizer_config.json:   0%|          | 0.00/294 [00:00<?, ?B/s]"
      ]
     },
     "metadata": {},
     "output_type": "display_data"
    },
    {
     "data": {
      "application/vnd.jupyter.widget-view+json": {
       "model_id": "ad6af968ab8c4bb790e9adf640d8de67",
       "version_major": 2,
       "version_minor": 0
      },
      "text/plain": [
       "vocab.json:   0%|          | 0.00/798k [00:00<?, ?B/s]"
      ]
     },
     "metadata": {},
     "output_type": "display_data"
    },
    {
     "name": "stderr",
     "output_type": "stream",
     "text": [
      "Xet Storage is enabled for this repo, but the 'hf_xet' package is not installed. Falling back to regular HTTP download. For better performance, install the package with: `pip install huggingface_hub[hf_xet]` or `pip install hf_xet`\n"
     ]
    },
    {
     "data": {
      "application/vnd.jupyter.widget-view+json": {
       "model_id": "ab8286d5f92e4c639059d65f4a704d9c",
       "version_major": 2,
       "version_minor": 0
      },
      "text/plain": [
       "model.safetensors:   0%|          | 0.00/329M [00:00<?, ?B/s]"
      ]
     },
     "metadata": {},
     "output_type": "display_data"
    },
    {
     "data": {
      "application/vnd.jupyter.widget-view+json": {
       "model_id": "2a71191e4c874d03a919917f9751948e",
       "version_major": 2,
       "version_minor": 0
      },
      "text/plain": [
       "merges.txt:   0%|          | 0.00/456k [00:00<?, ?B/s]"
      ]
     },
     "metadata": {},
     "output_type": "display_data"
    },
    {
     "data": {
      "application/vnd.jupyter.widget-view+json": {
       "model_id": "e780b2dab512400eb2b4c8ebf9acc0ac",
       "version_major": 2,
       "version_minor": 0
      },
      "text/plain": [
       "tokenizer.json:   0%|          | 0.00/1.36M [00:00<?, ?B/s]"
      ]
     },
     "metadata": {},
     "output_type": "display_data"
    },
    {
     "data": {
      "application/vnd.jupyter.widget-view+json": {
       "model_id": "64645522d9034219bd567d35a4b802fe",
       "version_major": 2,
       "version_minor": 0
      },
      "text/plain": [
       "special_tokens_map.json:   0%|          | 0.00/239 [00:00<?, ?B/s]"
      ]
     },
     "metadata": {},
     "output_type": "display_data"
    },
    {
     "name": "stderr",
     "output_type": "stream",
     "text": [
      "Device set to use cpu\n"
     ]
    }
   ],
   "source": [
    "from transformers import pipeline\n",
    "\n",
    "# Load model and tokenizer\n",
    "model_name = \"j-hartmann/emotion-english-distilroberta-base\"\n",
    "classifier=pipeline(\"text-classification\", model=model_name,\n",
    "                    top_k=None,\n",
    "                    device=0)"
   ]
  },
  {
   "cell_type": "code",
   "execution_count": 66,
   "id": "662523e7",
   "metadata": {},
   "outputs": [
    {
     "data": {
      "text/plain": [
       "[[{'label': 'sadness', 'score': 0.7447106242179871},\n",
       "  {'label': 'joy', 'score': 0.12758629024028778},\n",
       "  {'label': 'anger', 'score': 0.10406024754047394},\n",
       "  {'label': 'fear', 'score': 0.017243776470422745},\n",
       "  {'label': 'surprise', 'score': 0.003209520597010851},\n",
       "  {'label': 'neutral', 'score': 0.0017965221777558327},\n",
       "  {'label': 'disgust', 'score': 0.0013930285349488258}]]"
      ]
     },
     "execution_count": 66,
     "metadata": {},
     "output_type": "execute_result"
    }
   ],
   "source": [
    "classifier(\"i work for very low pay\")"
   ]
  },
  {
   "cell_type": "code",
   "execution_count": 67,
   "id": "7575386f",
   "metadata": {},
   "outputs": [],
   "source": [
    "labels = ['anger', 'disgust', 'fear', 'joy', 'neutral', 'sadness', 'surprise', 'love','hope']\n"
   ]
  },
  {
   "cell_type": "code",
   "execution_count": 68,
   "id": "d5943c26",
   "metadata": {},
   "outputs": [],
   "source": [
    "def classify_emotions(description,neutral_max=0.35):\n",
    "    scores = {label: 0.0 for label in labels}\n",
    "    count = 0\n",
    "\n",
    "    for sentence in description.split(\".\"):\n",
    "        sentence = sentence.strip()\n",
    "        if sentence:\n",
    "            preds = classifier(sentence)[0]\n",
    "            for pred in preds:\n",
    "                scores[pred['label']] += pred['score']\n",
    "            count += 1\n",
    "\n",
    "    result = {}\n",
    "    for label in scores:\n",
    "        avg_score = scores[label] / count if count > 0 else 0.0\n",
    "        if label == \"neutral\":\n",
    "            avg_score = min(avg_score, neutral_max)  # cap neutral\n",
    "        result[label] = round(avg_score, 3) #if avg_score > threshold else 0.0\n",
    "\n",
    "    return result"
   ]
  },
  {
   "cell_type": "code",
   "execution_count": 69,
   "id": "2ee24f22",
   "metadata": {},
   "outputs": [],
   "source": [
    "emotion_df = books[\"description\"].apply(classify_emotions).apply(pd.Series)\n",
    "books = pd.concat([books, emotion_df], axis=1)\n"
   ]
  },
  {
   "cell_type": "code",
   "execution_count": 74,
   "id": "c1aab889",
   "metadata": {},
   "outputs": [],
   "source": [
    "books.to_csv(\"books_with_emotions.csv\", index=False)"
   ]
  }
 ],
 "metadata": {
  "kernelspec": {
   "display_name": "Python 3",
   "language": "python",
   "name": "python3"
  },
  "language_info": {
   "codemirror_mode": {
    "name": "ipython",
    "version": 3
   },
   "file_extension": ".py",
   "mimetype": "text/x-python",
   "name": "python",
   "nbconvert_exporter": "python",
   "pygments_lexer": "ipython3",
   "version": "3.12.1"
  }
 },
 "nbformat": 4,
 "nbformat_minor": 5
}
